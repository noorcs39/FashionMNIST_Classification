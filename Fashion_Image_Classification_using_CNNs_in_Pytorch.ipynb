{
  "nbformat": 4,
  "nbformat_minor": 0,
  "metadata": {
    "colab": {
      "provenance": [],
      "gpuType": "T4"
    },
    "kernelspec": {
      "name": "python3",
      "display_name": "Python 3"
    },
    "language_info": {
      "name": "python"
    },
    "accelerator": "GPU"
  },
  "cells": [
    {
      "cell_type": "code",
      "execution_count": null,
      "metadata": {
        "colab": {
          "base_uri": "https://localhost:8080/"
        },
        "id": "FpHjjeI-E39G",
        "outputId": "7d8a374d-3b97-4eba-ba65-52be29b36b40"
      },
      "outputs": [
        {
          "output_type": "execute_result",
          "data": {
            "text/plain": [
              "True"
            ]
          },
          "metadata": {},
          "execution_count": 1
        }
      ],
      "source": [
        "import torch\n",
        "import torchvision.datasets as ds\n",
        "import torchvision.transforms as transforms\n",
        "\n",
        "torch.cuda.is_available()"
      ]
    },
    {
      "cell_type": "code",
      "source": [
        "import PIL\n",
        "\n",
        "transforms=transforms.Compose([transforms.ToTensor(),\n",
        "                              transforms.RandomHorizontalFlip(p=0.5),\n",
        "                              transforms.RandomVerticalFlip(p=0.5),\n",
        "                              transforms.GaussianBlur(3,(0.1,0.2)),\n",
        "                              transforms.RandomRotation(45, interpolation=PIL.Image.BILINEAR)])"
      ],
      "metadata": {
        "id": "4Va4__yl_1i7"
      },
      "execution_count": null,
      "outputs": []
    },
    {
      "cell_type": "code",
      "source": [
        "\n",
        "from torch.utils.data import DataLoader\n",
        "train_dataset=ds.FashionMNIST(root='./data', train=True, download=True, transform=transforms)\n",
        "val_dataset=ds.FashionMNIST(root='./data', train=False, download=True, transform=transforms)\n",
        "\n",
        "train_loader=DataLoader(dataset=train_dataset, batch_size=50, shuffle=True)\n",
        "val_loader=DataLoader(dataset=val_dataset, batch_size=10, shuffle=True)"
      ],
      "metadata": {
        "colab": {
          "base_uri": "https://localhost:8080/"
        },
        "id": "U6XCyGJ4FQUi",
        "outputId": "6df7322a-3bab-4db5-e9dc-c2ba44841987"
      },
      "execution_count": null,
      "outputs": [
        {
          "output_type": "stream",
          "name": "stdout",
          "text": [
            "Downloading http://fashion-mnist.s3-website.eu-central-1.amazonaws.com/train-images-idx3-ubyte.gz\n",
            "Downloading http://fashion-mnist.s3-website.eu-central-1.amazonaws.com/train-images-idx3-ubyte.gz to ./data/FashionMNIST/raw/train-images-idx3-ubyte.gz\n"
          ]
        },
        {
          "output_type": "stream",
          "name": "stderr",
          "text": [
            "100%|██████████| 26421880/26421880 [00:01<00:00, 16118671.75it/s]\n"
          ]
        },
        {
          "output_type": "stream",
          "name": "stdout",
          "text": [
            "Extracting ./data/FashionMNIST/raw/train-images-idx3-ubyte.gz to ./data/FashionMNIST/raw\n",
            "\n",
            "Downloading http://fashion-mnist.s3-website.eu-central-1.amazonaws.com/train-labels-idx1-ubyte.gz\n",
            "Downloading http://fashion-mnist.s3-website.eu-central-1.amazonaws.com/train-labels-idx1-ubyte.gz to ./data/FashionMNIST/raw/train-labels-idx1-ubyte.gz\n"
          ]
        },
        {
          "output_type": "stream",
          "name": "stderr",
          "text": [
            "100%|██████████| 29515/29515 [00:00<00:00, 268072.08it/s]\n"
          ]
        },
        {
          "output_type": "stream",
          "name": "stdout",
          "text": [
            "Extracting ./data/FashionMNIST/raw/train-labels-idx1-ubyte.gz to ./data/FashionMNIST/raw\n",
            "\n",
            "Downloading http://fashion-mnist.s3-website.eu-central-1.amazonaws.com/t10k-images-idx3-ubyte.gz\n",
            "Downloading http://fashion-mnist.s3-website.eu-central-1.amazonaws.com/t10k-images-idx3-ubyte.gz to ./data/FashionMNIST/raw/t10k-images-idx3-ubyte.gz\n"
          ]
        },
        {
          "output_type": "stream",
          "name": "stderr",
          "text": [
            "100%|██████████| 4422102/4422102 [00:00<00:00, 5089462.49it/s]\n"
          ]
        },
        {
          "output_type": "stream",
          "name": "stdout",
          "text": [
            "Extracting ./data/FashionMNIST/raw/t10k-images-idx3-ubyte.gz to ./data/FashionMNIST/raw\n",
            "\n",
            "Downloading http://fashion-mnist.s3-website.eu-central-1.amazonaws.com/t10k-labels-idx1-ubyte.gz\n",
            "Downloading http://fashion-mnist.s3-website.eu-central-1.amazonaws.com/t10k-labels-idx1-ubyte.gz to ./data/FashionMNIST/raw/t10k-labels-idx1-ubyte.gz\n"
          ]
        },
        {
          "output_type": "stream",
          "name": "stderr",
          "text": [
            "100%|██████████| 5148/5148 [00:00<00:00, 20902494.67it/s]"
          ]
        },
        {
          "output_type": "stream",
          "name": "stdout",
          "text": [
            "Extracting ./data/FashionMNIST/raw/t10k-labels-idx1-ubyte.gz to ./data/FashionMNIST/raw\n",
            "\n"
          ]
        },
        {
          "output_type": "stream",
          "name": "stderr",
          "text": [
            "\n"
          ]
        }
      ]
    },
    {
      "cell_type": "code",
      "source": [
        "len(train_dataset)"
      ],
      "metadata": {
        "colab": {
          "base_uri": "https://localhost:8080/"
        },
        "id": "_0ZS3qu-FhCo",
        "outputId": "8a45c191-511e-43e2-b4a7-57a372201a8c"
      },
      "execution_count": null,
      "outputs": [
        {
          "output_type": "execute_result",
          "data": {
            "text/plain": [
              "60000"
            ]
          },
          "metadata": {},
          "execution_count": 10
        }
      ]
    },
    {
      "cell_type": "code",
      "source": [
        "len(val_dataset)"
      ],
      "metadata": {
        "colab": {
          "base_uri": "https://localhost:8080/"
        },
        "id": "6DV-JaHmFzXY",
        "outputId": "c6062f8f-ca96-4d63-e2e0-57401f535a4b"
      },
      "execution_count": null,
      "outputs": [
        {
          "output_type": "execute_result",
          "data": {
            "text/plain": [
              "10000"
            ]
          },
          "metadata": {},
          "execution_count": 11
        }
      ]
    },
    {
      "cell_type": "markdown",
      "source": [
        "**Visualize the Data**"
      ],
      "metadata": {
        "id": "VL_dErepCeY8"
      }
    },
    {
      "cell_type": "code",
      "source": [
        "dataiter=iter(train_loader)\n",
        "images, labels=next(dataiter)\n",
        "\n",
        "print(images.shape)\n",
        "print(labels.shape)"
      ],
      "metadata": {
        "id": "NScuBU1uF_mc",
        "colab": {
          "base_uri": "https://localhost:8080/"
        },
        "outputId": "673af884-5c45-49d5-f8bd-e4f20a10333b"
      },
      "execution_count": null,
      "outputs": [
        {
          "output_type": "stream",
          "name": "stdout",
          "text": [
            "torch.Size([50, 1, 28, 28])\n",
            "torch.Size([50])\n"
          ]
        }
      ]
    },
    {
      "cell_type": "code",
      "source": [
        "import matplotlib.pyplot as plt\n",
        "\n",
        "plt.imshow(images[8].numpy().squeeze(), cmap='gray')"
      ],
      "metadata": {
        "colab": {
          "base_uri": "https://localhost:8080/",
          "height": 447
        },
        "id": "ORJfYKMKCt5M",
        "outputId": "ae8afaf9-353e-4f87-a6be-5e2c5f69838b"
      },
      "execution_count": null,
      "outputs": [
        {
          "output_type": "execute_result",
          "data": {
            "text/plain": [
              "<matplotlib.image.AxesImage at 0x7b91125140d0>"
            ]
          },
          "metadata": {},
          "execution_count": 19
        },
        {
          "output_type": "display_data",
          "data": {
            "text/plain": [
              "<Figure size 640x480 with 1 Axes>"
            ],
            "image/png": "[encoded data removed]"
          },
          "metadata": {}
        }
      ]
    },
    {
      "cell_type": "code",
      "source": [
        "import torch.nn as nn\n",
        "\n",
        "class Net(nn.Module):\n",
        "  def __init__(self):\n",
        "    super(Net, self).__init__()\n",
        "\n",
        "    self.cnn_layers=nn.Sequential(\n",
        "\n",
        "        #First Block\n",
        "        nn.Conv2d(1,4,kernel_size=3,stride=1,padding=1),\n",
        "        nn.BatchNorm2d(4),\n",
        "        nn.ReLU(inplace=True),\n",
        "        nn.MaxPool2d(kernel_size=2, stride=2),\n",
        "\n",
        "        #Second Block\n",
        "        nn.Conv2d(4,4,kernel_size=3,stride=1,padding=1),\n",
        "        nn.BatchNorm2d(4),\n",
        "        nn.ReLU(inplace=True),\n",
        "        nn.MaxPool2d(kernel_size=2, stride=2)\n",
        "    )\n",
        "    self.linear=nn.Sequential(\n",
        "        nn.Linear(4*7*7,10)\n",
        "    )\n",
        "\n",
        "  def forward(self, x):\n",
        "    x=self.cnn_layers(x)\n",
        "    x=x.view(x.size(0),-1)\n",
        "    x=self.linear(x)\n",
        "    return x\n"
      ],
      "metadata": {
        "id": "6UuJok1NDoxf"
      },
      "execution_count": null,
      "outputs": []
    },
    {
      "cell_type": "code",
      "source": [
        "device=torch.device('cuda:0')\n",
        "model=Net()\n",
        "model.to(device)"
      ],
      "metadata": {
        "colab": {
          "base_uri": "https://localhost:8080/"
        },
        "id": "ujXfdnVWGUSO",
        "outputId": "9cc895a4-5ce2-4814-9bfe-1014e1b17b1e"
      },
      "execution_count": null,
      "outputs": [
        {
          "output_type": "execute_result",
          "data": {
            "text/plain": [
              "Net(\n",
              "  (cnn_layers): Sequential(\n",
              "    (0): Conv2d(1, 4, kernel_size=(3, 3), stride=(1, 1), padding=(1, 1))\n",
              "    (1): BatchNorm2d(4, eps=1e-05, momentum=0.1, affine=True, track_running_stats=True)\n",
              "    (2): ReLU(inplace=True)\n",
              "    (3): MaxPool2d(kernel_size=2, stride=2, padding=0, dilation=1, ceil_mode=False)\n",
              "    (4): Conv2d(4, 4, kernel_size=(3, 3), stride=(1, 1), padding=(1, 1))\n",
              "    (5): BatchNorm2d(4, eps=1e-05, momentum=0.1, affine=True, track_running_stats=True)\n",
              "    (6): ReLU(inplace=True)\n",
              "    (7): MaxPool2d(kernel_size=2, stride=2, padding=0, dilation=1, ceil_mode=False)\n",
              "  )\n",
              "  (linear): Sequential(\n",
              "    (0): Linear(in_features=196, out_features=10, bias=True)\n",
              "  )\n",
              ")"
            ]
          },
          "metadata": {},
          "execution_count": 34
        }
      ]
    },
    {
      "cell_type": "code",
      "source": [
        "#criterion loss or cost\n",
        "criterion=nn.CrossEntropyLoss()\n"
      ],
      "metadata": {
        "id": "AGm2BsgRGCwm"
      },
      "execution_count": null,
      "outputs": []
    },
    {
      "cell_type": "code",
      "source": [
        "#optimizer\n",
        "import torch.optim as optim\n",
        "optimizer=optim.Adam(model.parameters(), lr=0.001)\n"
      ],
      "metadata": {
        "id": "ZnTFe1jbGM8F"
      },
      "execution_count": null,
      "outputs": []
    },
    {
      "cell_type": "code",
      "source": [
        "#Training\n",
        "loss_values=[]\n",
        "epochs=10\n",
        "for i in range(epochs):\n",
        "  running_loss=0\n",
        "  for images, labales in train_loader:\n",
        "    images, labels=images.to(device), labels.to(device)\n",
        "    optimizer.zero_grad()\n",
        "    output=model(images)\n",
        "    loss=criterion(output, labels)\n",
        "    loss.backward()\n",
        "    optimizer.step()\n",
        "    running_loss+=loss.item()\n",
        "  print('Epoch {}-Training Loss: {:.4f}'.format(i+1, running_loss/len(train_loader)))\n",
        "  loss_values.append(running_loss/len(train_loader))\n"
      ],
      "metadata": {
        "colab": {
          "base_uri": "https://localhost:8080/"
        },
        "id": "t4ShiPNvIroy",
        "outputId": "97c43eb0-e39f-4753-cfd0-f8d220f49b05"
      },
      "execution_count": null,
      "outputs": [
        {
          "output_type": "stream",
          "name": "stdout",
          "text": [
            "Epoch 1-Training Loss: 2.2444\n",
            "Epoch 2-Training Loss: 2.2439\n",
            "Epoch 3-Training Loss: 2.2435\n",
            "Epoch 4-Training Loss: 2.2436\n",
            "Epoch 5-Training Loss: 2.2435\n",
            "Epoch 6-Training Loss: 2.2436\n",
            "Epoch 7-Training Loss: 2.2435\n",
            "Epoch 8-Training Loss: 2.2435\n",
            "Epoch 9-Training Loss: 2.2435\n",
            "Epoch 10-Training Loss: 2.2433\n"
          ]
        }
      ]
    },
    {
      "cell_type": "code",
      "source": [
        "plt.plot(loss_values)"
      ],
      "metadata": {
        "colab": {
          "base_uri": "https://localhost:8080/",
          "height": 447
        },
        "id": "sD-9Jz-0Ln8m",
        "outputId": "7b221b72-9c08-4f97-9396-eb2fd7c7d46e"
      },
      "execution_count": null,
      "outputs": [
        {
          "output_type": "execute_result",
          "data": {
            "text/plain": [
              "[<matplotlib.lines.Line2D at 0x7b9112073f70>]"
            ]
          },
          "metadata": {},
          "execution_count": 40
        },
        {
          "output_type": "display_data",
          "data": {
            "text/plain": [
              "<Figure size 640x480 with 1 Axes>"
            ],
            "image/png": "[encoded data removed]"
          },
          "metadata": {}
        }
      ]
    },
    {
      "cell_type": "code",
      "source": [
        "correct_count, all_count=0, 0\n",
        "\n",
        "for images, labels in val_loader:\n",
        "  for i in range(len(labels)):\n",
        "    if torch.cuda.is_available():\n",
        "      images=images.cuda()\n",
        "      labels=labels.cuda()\n",
        "    img=images[i].view(1,1,28,28)\n",
        "    with torch.no_grad():\n",
        "      logps=model(img)\n",
        "    ps=torch.exp(logps)\n",
        "    probab=list(ps.cpu()[0])\n",
        "    pred_label=probab.index(max(probab))\n",
        "    true_label=labels.cpu()[1]\n",
        "    if(true_label==pred_label):\n",
        "      correct_count+=1\n",
        "    all_count+=1\n",
        "\n",
        "print(\"Number of Images test\", all_count)\n",
        "print(\"Model Accuracy:\", correct_count/all_count)"
      ],
      "metadata": {
        "colab": {
          "base_uri": "https://localhost:8080/"
        },
        "id": "VWkwaL64MM3E",
        "outputId": "abee48f2-76c0-4502-b219-afea3b89ae6e"
      },
      "execution_count": null,
      "outputs": [
        {
          "output_type": "stream",
          "name": "stdout",
          "text": [
            "Number of Images test 10000\n",
            "Model Accuracy: 0.1145\n"
          ]
        }
      ]
    },
    {
      "cell_type": "code",
      "source": [],
      "metadata": {
        "id": "YqjNw3tOS22f"
      },
      "execution_count": null,
      "outputs": []
    }
  ]
}